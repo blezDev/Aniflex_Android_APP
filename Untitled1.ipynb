{
  "nbformat": 4,
  "nbformat_minor": 0,
  "metadata": {
    "colab": {
      "provenance": [],
      "authorship_tag": "ABX9TyP8eN28C00QP+Km9Roq6rR5",
      "include_colab_link": true
    },
    "kernelspec": {
      "name": "python3",
      "display_name": "Python 3"
    },
    "language_info": {
      "name": "python"
    }
  },
  "cells": [
    {
      "cell_type": "markdown",
      "metadata": {
        "id": "view-in-github",
        "colab_type": "text"
      },
      "source": [
        "<a href=\"https://colab.research.google.com/github/blezDev/Aniflex_Android_APP/blob/master/Untitled1.ipynb\" target=\"_parent\"><img src=\"https://colab.research.google.com/assets/colab-badge.svg\" alt=\"Open In Colab\"/></a>"
      ]
    },
    {
      "cell_type": "code",
      "source": [
        "import numpy as np\n",
        "import pandas as pd\n",
        "from mlxtend.frequent_patterns import apriori, association_rules"
      ],
      "metadata": {
        "id": "wxKYFL0mkv0h"
      },
      "execution_count": null,
      "outputs": []
    },
    {
      "cell_type": "code",
      "execution_count": null,
      "metadata": {
        "colab": {
          "base_uri": "https://localhost:8080/",
          "height": 337
        },
        "id": "4FrZa2JKiZWg",
        "outputId": "07ab2d24-9e63-4c9b-b45c-c7b3e949c553"
      },
      "outputs": [
        {
          "output_type": "execute_result",
          "data": {
            "text/plain": [
              "  InvoiceNo StockCode                          Description  Quantity  \\\n",
              "0    536365    85123A   WHITE HANGING HEART T-LIGHT HOLDER         6   \n",
              "1    536365     71053                  WHITE METAL LANTERN         6   \n",
              "2    536365    84406B       CREAM CUPID HEARTS COAT HANGER         8   \n",
              "3    536365    84029G  KNITTED UNION FLAG HOT WATER BOTTLE         6   \n",
              "4    536365    84029E       RED WOOLLY HOTTIE WHITE HEART.         6   \n",
              "\n",
              "          InvoiceDate  UnitPrice  CustomerID         Country  \n",
              "0 2010-12-01 08:26:00       2.55     17850.0  United Kingdom  \n",
              "1 2010-12-01 08:26:00       3.39     17850.0  United Kingdom  \n",
              "2 2010-12-01 08:26:00       2.75     17850.0  United Kingdom  \n",
              "3 2010-12-01 08:26:00       3.39     17850.0  United Kingdom  \n",
              "4 2010-12-01 08:26:00       3.39     17850.0  United Kingdom  "
            ],
            "text/html": [
              "\n",
              "  <div id=\"df-c56a2336-18c5-44ff-8960-385c87613f3d\">\n",
              "    <div class=\"colab-df-container\">\n",
              "      <div>\n",
              "<style scoped>\n",
              "    .dataframe tbody tr th:only-of-type {\n",
              "        vertical-align: middle;\n",
              "    }\n",
              "\n",
              "    .dataframe tbody tr th {\n",
              "        vertical-align: top;\n",
              "    }\n",
              "\n",
              "    .dataframe thead th {\n",
              "        text-align: right;\n",
              "    }\n",
              "</style>\n",
              "<table border=\"1\" class=\"dataframe\">\n",
              "  <thead>\n",
              "    <tr style=\"text-align: right;\">\n",
              "      <th></th>\n",
              "      <th>InvoiceNo</th>\n",
              "      <th>StockCode</th>\n",
              "      <th>Description</th>\n",
              "      <th>Quantity</th>\n",
              "      <th>InvoiceDate</th>\n",
              "      <th>UnitPrice</th>\n",
              "      <th>CustomerID</th>\n",
              "      <th>Country</th>\n",
              "    </tr>\n",
              "  </thead>\n",
              "  <tbody>\n",
              "    <tr>\n",
              "      <th>0</th>\n",
              "      <td>536365</td>\n",
              "      <td>85123A</td>\n",
              "      <td>WHITE HANGING HEART T-LIGHT HOLDER</td>\n",
              "      <td>6</td>\n",
              "      <td>2010-12-01 08:26:00</td>\n",
              "      <td>2.55</td>\n",
              "      <td>17850.0</td>\n",
              "      <td>United Kingdom</td>\n",
              "    </tr>\n",
              "    <tr>\n",
              "      <th>1</th>\n",
              "      <td>536365</td>\n",
              "      <td>71053</td>\n",
              "      <td>WHITE METAL LANTERN</td>\n",
              "      <td>6</td>\n",
              "      <td>2010-12-01 08:26:00</td>\n",
              "      <td>3.39</td>\n",
              "      <td>17850.0</td>\n",
              "      <td>United Kingdom</td>\n",
              "    </tr>\n",
              "    <tr>\n",
              "      <th>2</th>\n",
              "      <td>536365</td>\n",
              "      <td>84406B</td>\n",
              "      <td>CREAM CUPID HEARTS COAT HANGER</td>\n",
              "      <td>8</td>\n",
              "      <td>2010-12-01 08:26:00</td>\n",
              "      <td>2.75</td>\n",
              "      <td>17850.0</td>\n",
              "      <td>United Kingdom</td>\n",
              "    </tr>\n",
              "    <tr>\n",
              "      <th>3</th>\n",
              "      <td>536365</td>\n",
              "      <td>84029G</td>\n",
              "      <td>KNITTED UNION FLAG HOT WATER BOTTLE</td>\n",
              "      <td>6</td>\n",
              "      <td>2010-12-01 08:26:00</td>\n",
              "      <td>3.39</td>\n",
              "      <td>17850.0</td>\n",
              "      <td>United Kingdom</td>\n",
              "    </tr>\n",
              "    <tr>\n",
              "      <th>4</th>\n",
              "      <td>536365</td>\n",
              "      <td>84029E</td>\n",
              "      <td>RED WOOLLY HOTTIE WHITE HEART.</td>\n",
              "      <td>6</td>\n",
              "      <td>2010-12-01 08:26:00</td>\n",
              "      <td>3.39</td>\n",
              "      <td>17850.0</td>\n",
              "      <td>United Kingdom</td>\n",
              "    </tr>\n",
              "  </tbody>\n",
              "</table>\n",
              "</div>\n",
              "      <button class=\"colab-df-convert\" onclick=\"convertToInteractive('df-c56a2336-18c5-44ff-8960-385c87613f3d')\"\n",
              "              title=\"Convert this dataframe to an interactive table.\"\n",
              "              style=\"display:none;\">\n",
              "        \n",
              "  <svg xmlns=\"http://www.w3.org/2000/svg\" height=\"24px\"viewBox=\"0 0 24 24\"\n",
              "       width=\"24px\">\n",
              "    <path d=\"M0 0h24v24H0V0z\" fill=\"none\"/>\n",
              "    <path d=\"M18.56 5.44l.94 2.06.94-2.06 2.06-.94-2.06-.94-.94-2.06-.94 2.06-2.06.94zm-11 1L8.5 8.5l.94-2.06 2.06-.94-2.06-.94L8.5 2.5l-.94 2.06-2.06.94zm10 10l.94 2.06.94-2.06 2.06-.94-2.06-.94-.94-2.06-.94 2.06-2.06.94z\"/><path d=\"M17.41 7.96l-1.37-1.37c-.4-.4-.92-.59-1.43-.59-.52 0-1.04.2-1.43.59L10.3 9.45l-7.72 7.72c-.78.78-.78 2.05 0 2.83L4 21.41c.39.39.9.59 1.41.59.51 0 1.02-.2 1.41-.59l7.78-7.78 2.81-2.81c.8-.78.8-2.07 0-2.86zM5.41 20L4 18.59l7.72-7.72 1.47 1.35L5.41 20z\"/>\n",
              "  </svg>\n",
              "      </button>\n",
              "      \n",
              "  <style>\n",
              "    .colab-df-container {\n",
              "      display:flex;\n",
              "      flex-wrap:wrap;\n",
              "      gap: 12px;\n",
              "    }\n",
              "\n",
              "    .colab-df-convert {\n",
              "      background-color: #E8F0FE;\n",
              "      border: none;\n",
              "      border-radius: 50%;\n",
              "      cursor: pointer;\n",
              "      display: none;\n",
              "      fill: #1967D2;\n",
              "      height: 32px;\n",
              "      padding: 0 0 0 0;\n",
              "      width: 32px;\n",
              "    }\n",
              "\n",
              "    .colab-df-convert:hover {\n",
              "      background-color: #E2EBFA;\n",
              "      box-shadow: 0px 1px 2px rgba(60, 64, 67, 0.3), 0px 1px 3px 1px rgba(60, 64, 67, 0.15);\n",
              "      fill: #174EA6;\n",
              "    }\n",
              "\n",
              "    [theme=dark] .colab-df-convert {\n",
              "      background-color: #3B4455;\n",
              "      fill: #D2E3FC;\n",
              "    }\n",
              "\n",
              "    [theme=dark] .colab-df-convert:hover {\n",
              "      background-color: #434B5C;\n",
              "      box-shadow: 0px 1px 3px 1px rgba(0, 0, 0, 0.15);\n",
              "      filter: drop-shadow(0px 1px 2px rgba(0, 0, 0, 0.3));\n",
              "      fill: #FFFFFF;\n",
              "    }\n",
              "  </style>\n",
              "\n",
              "      <script>\n",
              "        const buttonEl =\n",
              "          document.querySelector('#df-c56a2336-18c5-44ff-8960-385c87613f3d button.colab-df-convert');\n",
              "        buttonEl.style.display =\n",
              "          google.colab.kernel.accessAllowed ? 'block' : 'none';\n",
              "\n",
              "        async function convertToInteractive(key) {\n",
              "          const element = document.querySelector('#df-c56a2336-18c5-44ff-8960-385c87613f3d');\n",
              "          const dataTable =\n",
              "            await google.colab.kernel.invokeFunction('convertToInteractive',\n",
              "                                                     [key], {});\n",
              "          if (!dataTable) return;\n",
              "\n",
              "          const docLinkHtml = 'Like what you see? Visit the ' +\n",
              "            '<a target=\"_blank\" href=https://colab.research.google.com/notebooks/data_table.ipynb>data table notebook</a>'\n",
              "            + ' to learn more about interactive tables.';\n",
              "          element.innerHTML = '';\n",
              "          dataTable['output_type'] = 'display_data';\n",
              "          await google.colab.output.renderOutput(dataTable, element);\n",
              "          const docLink = document.createElement('div');\n",
              "          docLink.innerHTML = docLinkHtml;\n",
              "          element.appendChild(docLink);\n",
              "        }\n",
              "      </script>\n",
              "    </div>\n",
              "  </div>\n",
              "  "
            ]
          },
          "metadata": {},
          "execution_count": 5
        }
      ],
      "source": [
        "data = pd.read_excel('/content/Online Retail.xlsx')\n",
        "data.head()"
      ]
    },
    {
      "cell_type": "code",
      "source": [
        "\n",
        "data.columns\n"
      ],
      "metadata": {
        "colab": {
          "base_uri": "https://localhost:8080/"
        },
        "id": "5qnN3VIFkzsQ",
        "outputId": "122f9f01-091b-4ea8-ef46-4076e15b7733"
      },
      "execution_count": null,
      "outputs": [
        {
          "output_type": "execute_result",
          "data": {
            "text/plain": [
              "Index(['InvoiceNo', 'StockCode', 'Description', 'Quantity', 'InvoiceDate',\n",
              "       'UnitPrice', 'CustomerID', 'Country'],\n",
              "      dtype='object')"
            ]
          },
          "metadata": {},
          "execution_count": 6
        }
      ]
    },
    {
      "cell_type": "code",
      "source": [
        "\n",
        "data.Country.unique()\n"
      ],
      "metadata": {
        "colab": {
          "base_uri": "https://localhost:8080/"
        },
        "id": "Q0OznzNZlQZI",
        "outputId": "c13c1fb8-5248-49e5-d593-b2c44299c1a7"
      },
      "execution_count": null,
      "outputs": [
        {
          "output_type": "execute_result",
          "data": {
            "text/plain": [
              "array(['United Kingdom', 'France', 'Australia', 'Netherlands', 'Germany',\n",
              "       'Norway', 'EIRE', 'Switzerland', 'Spain', 'Poland', 'Portugal',\n",
              "       'Italy', 'Belgium', 'Lithuania', 'Japan', 'Iceland',\n",
              "       'Channel Islands', 'Denmark', 'Cyprus', 'Sweden', 'Austria',\n",
              "       'Israel', 'Finland', 'Bahrain', 'Greece', 'Hong Kong', 'Singapore',\n",
              "       'Lebanon', 'United Arab Emirates', 'Saudi Arabia',\n",
              "       'Czech Republic', 'Canada', 'Unspecified', 'Brazil', 'USA',\n",
              "       'European Community', 'Malta', 'RSA'], dtype=object)"
            ]
          },
          "metadata": {},
          "execution_count": 7
        }
      ]
    },
    {
      "cell_type": "code",
      "source": [
        "\n",
        "data['Description'] = data['Description'].str.strip()\n",
        "\n",
        "\n",
        "data.dropna(axis = 0, subset =['InvoiceNo'], inplace = True)\n",
        "data['InvoiceNo'] = data['InvoiceNo'].astype('str')\n",
        "\n",
        "\n",
        "data = data[~data['InvoiceNo'].str.contains('C')]\n"
      ],
      "metadata": {
        "id": "pks8PZbUlROA"
      },
      "execution_count": null,
      "outputs": []
    },
    {
      "cell_type": "code",
      "source": [
        "\n",
        "basket_France = (data[data['Country'] ==\"France\"]\n",
        "\t\t.groupby(['InvoiceNo', 'Description'])['Quantity']\n",
        "\t\t.sum().unstack().reset_index().fillna(0)\n",
        "\t\t.set_index('InvoiceNo'))\n",
        "\n",
        "\n",
        "basket_UK = (data[data['Country'] ==\"United Kingdom\"]\n",
        "\t\t.groupby(['InvoiceNo', 'Description'])['Quantity']\n",
        "\t\t.sum().unstack().reset_index().fillna(0)\n",
        "\t\t.set_index('InvoiceNo'))\n",
        "\n",
        "\n",
        "basket_Por = (data[data['Country'] ==\"Portugal\"]\n",
        "\t\t.groupby(['InvoiceNo', 'Description'])['Quantity']\n",
        "\t\t.sum().unstack().reset_index().fillna(0)\n",
        "\t\t.set_index('InvoiceNo'))\n",
        "\n",
        "basket_Sweden = (data[data['Country'] ==\"Sweden\"]\n",
        "\t\t.groupby(['InvoiceNo', 'Description'])['Quantity']\n",
        "\t\t.sum().unstack().reset_index().fillna(0)\n",
        "\t\t.set_index('InvoiceNo'))\n"
      ],
      "metadata": {
        "id": "wE5TvU94lTpg"
      },
      "execution_count": null,
      "outputs": []
    },
    {
      "cell_type": "code",
      "source": [
        "\n",
        "def hot_encode(x):\n",
        "\tif(x<= 0):\n",
        "\t\treturn 0\n",
        "\tif(x>= 1):\n",
        "\t\treturn 1\n",
        "\n",
        "\n",
        "basket_encoded = basket_France.applymap(hot_encode)\n",
        "basket_France = basket_encoded\n",
        "\n",
        "basket_encoded = basket_UK.applymap(hot_encode)\n",
        "basket_UK = basket_encoded\n",
        "\n",
        "basket_encoded = basket_Por.applymap(hot_encode)\n",
        "basket_Por = basket_encoded\n",
        "\n",
        "basket_encoded = basket_Sweden.applymap(hot_encode)\n",
        "basket_Sweden = basket_encoded\n"
      ],
      "metadata": {
        "id": "B6WiVBFOlXBn"
      },
      "execution_count": null,
      "outputs": []
    },
    {
      "cell_type": "code",
      "source": [
        "\n",
        "frq_items = apriori(basket_France, min_support = 0.05, use_colnames = True)\n",
        "\n",
        "rules = association_rules(frq_items, metric =\"lift\", min_threshold = 1)\n",
        "rules = rules.sort_values(['confidence', 'lift'], ascending =[False, False])\n",
        "print(rules.head())\n"
      ],
      "metadata": {
        "colab": {
          "base_uri": "https://localhost:8080/"
        },
        "id": "b3a3ArZmlbkf",
        "outputId": "50ba9806-8497-47af-ab19-98d69397b379"
      },
      "execution_count": null,
      "outputs": [
        {
          "output_type": "stream",
          "name": "stdout",
          "text": [
            "                                           antecedents  \\\n",
            "44                        (JUMBO BAG WOODLAND ANIMALS)   \n",
            "259  (RED TOADSTOOL LED NIGHT LIGHT, PLASTERS IN TI...   \n",
            "270  (PLASTERS IN TIN WOODLAND ANIMALS, RED TOADSTO...   \n",
            "302  (SET/20 RED RETROSPOT PAPER NAPKINS, SET/6 RED...   \n",
            "300  (SET/20 RED RETROSPOT PAPER NAPKINS, SET/6 RED...   \n",
            "\n",
            "                         consequents  antecedent support  consequent support  \\\n",
            "44                         (POSTAGE)            0.076531            0.765306   \n",
            "259                        (POSTAGE)            0.051020            0.765306   \n",
            "270                        (POSTAGE)            0.053571            0.765306   \n",
            "302  (SET/6 RED SPOTTY PAPER PLATES)            0.102041            0.127551   \n",
            "300    (SET/6 RED SPOTTY PAPER CUPS)            0.102041            0.137755   \n",
            "\n",
            "      support  confidence      lift  leverage  conviction  \n",
            "44   0.076531       1.000  1.306667  0.017961         inf  \n",
            "259  0.051020       1.000  1.306667  0.011974         inf  \n",
            "270  0.053571       1.000  1.306667  0.012573         inf  \n",
            "302  0.099490       0.975  7.644000  0.086474   34.897959  \n",
            "300  0.099490       0.975  7.077778  0.085433   34.489796  \n"
          ]
        }
      ]
    },
    {
      "cell_type": "code",
      "source": [
        "frq_items = apriori(basket_UK, min_support = 0.01, use_colnames = True)\n",
        "rules = association_rules(frq_items, metric =\"lift\", min_threshold = 1)\n",
        "rules = rules.sort_values(['confidence', 'lift'], ascending =[False, False])\n",
        "print(rules.head())\n"
      ],
      "metadata": {
        "colab": {
          "base_uri": "https://localhost:8080/"
        },
        "id": "Qiwgsp9ylcK4",
        "outputId": "6170cb59-59e6-444e-9ab4-31de8f47cc78"
      },
      "execution_count": null,
      "outputs": [
        {
          "output_type": "stream",
          "name": "stdout",
          "text": [
            "                                       antecedents             consequents  \\\n",
            "117           (BEADED CRYSTAL HEART PINK ON STICK)        (DOTCOM POSTAGE)   \n",
            "2020  (JAM MAKING SET PRINTED, SUKI  SHOULDER BAG)        (DOTCOM POSTAGE)   \n",
            "2294         (HERB MARKER MINT, HERB MARKER THYME)  (HERB MARKER ROSEMARY)   \n",
            "2301   (HERB MARKER PARSLEY, HERB MARKER ROSEMARY)     (HERB MARKER THYME)   \n",
            "2300      (HERB MARKER PARSLEY, HERB MARKER THYME)  (HERB MARKER ROSEMARY)   \n",
            "\n",
            "      antecedent support  consequent support   support  confidence       lift  \\\n",
            "117             0.011036            0.037928  0.010768    0.975728  25.725872   \n",
            "2020            0.011625            0.037928  0.011196    0.963134  25.393807   \n",
            "2294            0.010714            0.012375  0.010232    0.955000  77.173095   \n",
            "2301            0.011089            0.012321  0.010553    0.951691  77.240055   \n",
            "2300            0.011089            0.012375  0.010553    0.951691  76.905682   \n",
            "\n",
            "      leverage  conviction  \n",
            "117   0.010349   39.637371  \n",
            "2020  0.010755   26.096206  \n",
            "2294  0.010099   21.947227  \n",
            "2301  0.010417   20.444951  \n",
            "2300  0.010416   20.443842  \n"
          ]
        }
      ]
    },
    {
      "cell_type": "code",
      "source": [
        "frq_items = apriori(basket_Por, min_support = 0.05, use_colnames = True)\n",
        "rules = association_rules(frq_items, metric =\"lift\", min_threshold = 1)\n",
        "rules = rules.sort_values(['confidence', 'lift'], ascending =[False, False])\n",
        "print(rules.head())\n"
      ],
      "metadata": {
        "colab": {
          "base_uri": "https://localhost:8080/"
        },
        "id": "VmKYF2AflfB4",
        "outputId": "c55ca871-fa06-4c0b-e7af-033a481c4758"
      },
      "execution_count": null,
      "outputs": [
        {
          "output_type": "stream",
          "name": "stdout",
          "text": [
            "                             antecedents                          consequents  \\\n",
            "1170  (SET 12 COLOUR PENCILS DOLLY GIRL)     (SET 12 COLOUR PENCILS SPACEBOY)   \n",
            "1171    (SET 12 COLOUR PENCILS SPACEBOY)   (SET 12 COLOUR PENCILS DOLLY GIRL)   \n",
            "1172  (SET 12 COLOUR PENCILS DOLLY GIRL)   (SET OF 4 KNICK KNACK TINS LONDON)   \n",
            "1173  (SET OF 4 KNICK KNACK TINS LONDON)   (SET 12 COLOUR PENCILS DOLLY GIRL)   \n",
            "1174  (SET 12 COLOUR PENCILS DOLLY GIRL)  (SET OF 4 KNICK KNACK TINS POPPIES)   \n",
            "\n",
            "      antecedent support  consequent support   support  confidence       lift  \\\n",
            "1170            0.051724            0.051724  0.051724         1.0  19.333333   \n",
            "1171            0.051724            0.051724  0.051724         1.0  19.333333   \n",
            "1172            0.051724            0.051724  0.051724         1.0  19.333333   \n",
            "1173            0.051724            0.051724  0.051724         1.0  19.333333   \n",
            "1174            0.051724            0.051724  0.051724         1.0  19.333333   \n",
            "\n",
            "      leverage  conviction  \n",
            "1170  0.049049         inf  \n",
            "1171  0.049049         inf  \n",
            "1172  0.049049         inf  \n",
            "1173  0.049049         inf  \n",
            "1174  0.049049         inf  \n"
          ]
        }
      ]
    },
    {
      "cell_type": "code",
      "source": [
        "frq_items = apriori(basket_Sweden, min_support = 0.05, use_colnames = True)\n",
        "rules = association_rules(frq_items, metric =\"lift\", min_threshold = 1)\n",
        "rules = rules.sort_values(['confidence', 'lift'], ascending =[False, False])\n",
        "print(rules.head())\n"
      ],
      "metadata": {
        "colab": {
          "base_uri": "https://localhost:8080/"
        },
        "id": "oDrm-iHxlfdQ",
        "outputId": "2a4297a9-d2a5-4c12-d98b-301213a5ba96"
      },
      "execution_count": null,
      "outputs": [
        {
          "output_type": "stream",
          "name": "stdout",
          "text": [
            "                           antecedents                     consequents  \\\n",
            "0        (PACK OF 72 SKULL CAKE CASES)   (12 PENCILS SMALL TUBE SKULL)   \n",
            "1        (12 PENCILS SMALL TUBE SKULL)   (PACK OF 72 SKULL CAKE CASES)   \n",
            "4       (ASSORTED BOTTLE TOP  MAGNETS)         (36 DOILIES DOLLY GIRL)   \n",
            "5              (36 DOILIES DOLLY GIRL)  (ASSORTED BOTTLE TOP  MAGNETS)   \n",
            "180  (CHILDRENS CUTLERY CIRCUS PARADE)  (CHILDRENS CUTLERY DOLLY GIRL)   \n",
            "\n",
            "     antecedent support  consequent support   support  confidence  lift  \\\n",
            "0              0.055556            0.055556  0.055556         1.0  18.0   \n",
            "1              0.055556            0.055556  0.055556         1.0  18.0   \n",
            "4              0.055556            0.055556  0.055556         1.0  18.0   \n",
            "5              0.055556            0.055556  0.055556         1.0  18.0   \n",
            "180            0.055556            0.055556  0.055556         1.0  18.0   \n",
            "\n",
            "     leverage  conviction  \n",
            "0    0.052469         inf  \n",
            "1    0.052469         inf  \n",
            "4    0.052469         inf  \n",
            "5    0.052469         inf  \n",
            "180  0.052469         inf  \n"
          ]
        }
      ]
    }
  ]
}